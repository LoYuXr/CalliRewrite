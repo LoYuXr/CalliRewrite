{
 "cells": [
  {
   "cell_type": "markdown",
   "metadata": {},
   "source": [
    "## Callibration code\n",
    "Code for callibration: drawing lines at various z heights for establishing the r-z relationship.\n",
    "\n",
    "In the RL output (x, y, r, l, theta...), x and y (\\in [0,1]) denote meters, while r = r_real / img_width represents the ratio of r to the real character width.\n",
    "\n",
    "To obtain the actual radius width, we can simply scale it by a factor α (e.g., α = 0.08 signifies writing a character with a width of 0.08 m).\n",
    "\n",
    "For calibration purposes, we seek to determine the correlation between r (cm) and z (cm), represented as a function(). Subsequently, we apply this function to convert RL fine-tuned states into NPZ-like x-y-z control points.\n",
    "\n",
    "### 1. Tool Callibration and generate the callibration function\n"
   ]
  },
  {
   "cell_type": "code",
   "execution_count": 1,
   "metadata": {},
   "outputs": [],
   "source": [
    "import numpy as np\n",
    "import os\n",
    "import matplotlib.pyplot as plt"
   ]
  },
  {
   "cell_type": "markdown",
   "metadata": {},
   "source": [
    "in the following code block, you have to use your robot arm to find out the maximum z-height (pen touching the paper) and minimmum z-height (pen pressing on the paper, to the extreme), and generate 'its' number of samples."
   ]
  },
  {
   "cell_type": "code",
   "execution_count": 2,
   "metadata": {},
   "outputs": [
    {
     "name": "stdout",
     "output_type": "stream",
     "text": [
      "[ 0.01   0.009  0.008  0.007  0.006  0.005  0.004  0.003  0.002  0.001\n",
      "  0.    -0.001 -0.002 -0.003 -0.004 -0.005 -0.006]\n"
     ]
    }
   ],
   "source": [
    "## E.g. 1: our Calligraphy brush\n",
    "\n",
    "max_z = 0.01 # measure: m\n",
    "min_z = -0.006 # measure: m\n",
    "its = 17\n",
    "zs = np.linspace(max_z, min_z,its).round(4)\n",
    "zs = np.sort(np.unique(zs))[::-1]\n",
    "print(zs)\n",
    "savedir = './test/'\n",
    "if not os.path.exists(savedir):\n",
    "    os.mkdir(savedir)"
   ]
  },
  {
   "cell_type": "code",
   "execution_count": 88,
   "metadata": {},
   "outputs": [
    {
     "name": "stdout",
     "output_type": "stream",
     "text": [
      "[0.04602   0.0457671 0.0455143 0.0452614 0.0450086 0.0447557 0.0445029\n",
      " 0.04425  ]\n"
     ]
    }
   ],
   "source": [
    "## E.g. 1: our Fude pen\n",
    "\n",
    "max_z = 0.04602 # measure: m\n",
    "min_z = 0.044250 # measure: m\n",
    "its = 8\n",
    "zs = np.linspace(max_z, min_z,its).round(7)\n",
    "zs = np.sort(np.unique(zs))[::-1]\n",
    "print(zs)\n",
    "savedir = './test/'\n",
    "if not os.path.exists(savedir):\n",
    "    os.mkdir(savedir)\n"
   ]
  },
  {
   "cell_type": "code",
   "execution_count": 27,
   "metadata": {},
   "outputs": [],
   "source": [
    "def generate_npz(zs, max_z, savedir):\n",
    "    # generate 'its' number of strokes with linear z range from max_z (small r) to min_z (large r)\n",
    "    x = []\n",
    "    y = []\n",
    "    z = []\n",
    "    for i in range(zs.shape[0]):\n",
    "        ## begin point\n",
    "        x.append(0)\n",
    "        y.append(i*0.004)\n",
    "        z.append(max_z + 0.03)\n",
    "        \n",
    "        ## left point with current z\n",
    "        x.append(0)\n",
    "        y.append(i*0.004)\n",
    "        z.append(zs[i])\n",
    "        \n",
    "        ## right point with current z\n",
    "        x.append(0.05)\n",
    "        y.append(i*0.004)\n",
    "        z.append(zs[i])\n",
    "        \n",
    "        ## lift pen\n",
    "        x.append(0.05)\n",
    "        y.append(i*0.004)\n",
    "        z.append(max_z + 0.03)\n",
    "    \n",
    "    print(\"make test data...\")\n",
    "    np.savez(os.path.join(savedir,\"test.npz\"), pos_3d_x=x, pos_3d_y=y, pos_3d_z=z)    "
   ]
  },
  {
   "cell_type": "markdown",
   "metadata": {},
   "source": [
    "thus we utilize our robotic arm to draw the lines..."
   ]
  },
  {
   "cell_type": "code",
   "execution_count": 28,
   "metadata": {},
   "outputs": [
    {
     "name": "stdout",
     "output_type": "stream",
     "text": [
      "make test data...\n"
     ]
    }
   ],
   "source": [
    "generate_npz(zs, max_z, savedir)\n",
    "from RoboControl import *"
   ]
  },
  {
   "cell_type": "code",
   "execution_count": 29,
   "metadata": {},
   "outputs": [
    {
     "name": "stdout",
     "output_type": "stream",
     "text": [
      "./test/test.npz\n",
      "您用的dll是64位，为了顺利运行，请保证您的python环境也是64位\n",
      "python环境是： ('64bit', 'WindowsPE')\n",
      "Connect status: DobotConnect_NoError\n",
      "0.025\n",
      "0.014\n",
      "0.07602\n"
     ]
    }
   ],
   "source": [
    "## Control file can draw npz characters, either produced as callibration or real fine-tuned strokes\n",
    "filepath = os.path.join(savedir,\"test.npz\")\n",
    "print(filepath)\n",
    "Control(filepath)"
   ]
  },
  {
   "cell_type": "markdown",
   "metadata": {},
   "source": [
    "We use a ruler to measure the averaged widths of each stroke, and record them into the 'widths' list...\n",
    "\n",
    "Then we generate radiis (rs)"
   ]
  },
  {
   "cell_type": "code",
   "execution_count": 96,
   "metadata": {},
   "outputs": [
    {
     "data": {
      "text/plain": [
       "(array([4.98750e-05, 9.43750e-05, 2.01250e-04, 3.16250e-04, 4.60000e-04,\n",
       "        5.89375e-04, 6.75625e-04, 7.18750e-04]),\n",
       " array([0.04602  , 0.0457671, 0.0455143, 0.0452614, 0.0450086, 0.0447557,\n",
       "        0.0445029, 0.04425  ]))"
      ]
     },
     "execution_count": 96,
     "metadata": {},
     "output_type": "execute_result"
    }
   ],
   "source": [
    "## manually record result!!\n",
    "## calligraphy brush:\n",
    "# widths = [0.00025, 0.00085, 0.001, 0.0012, 0.002, 0.0033, 0.0038,\\\n",
    "#                 0.0042, 0.0045, 0.0048, 0.0055, 0.0065, 0.0072, 0.0078, 0.009]\n",
    "# zs = np.array([0.008, 0.007, 0.006, 0.005, 0.004, 0.003, 0.002,\\\n",
    "#                 0.001, 0., -0.001, -0.002, -0.003, -0.004, -0.005, -0.006])\n",
    "\n",
    "## fude pen:\n",
    "widths = [0.00009975, 0.00018875, 0.0004025, 0.0006325, 0.00092, 0.00117875, 0.00135125, 0.0014375]\n",
    "zs = np.array([0.04602, 0.0457671, 0.0455143, 0.0452614, 0.0450086, 0.0447557, 0.0445029, 0.04425])\n",
    "\n",
    "# here we present callibrating a brush as an example\n",
    "rs = np.array(widths)/2\n",
    "\n",
    "rs, zs"
   ]
  },
  {
   "cell_type": "code",
   "execution_count": 97,
   "metadata": {},
   "outputs": [
    {
     "name": "stdout",
     "output_type": "stream",
     "text": [
      "[0.04602   0.0457671 0.0455143 0.0452614 0.0450086 0.0447557 0.0445029\n",
      " 0.04425  ]\n"
     ]
    },
    {
     "data": {
      "image/png": "[encoded data removed]",
      "text/plain": [
       "<Figure size 432x288 with 1 Axes>"
      ]
     },
     "metadata": {
      "needs_background": "light"
     },
     "output_type": "display_data"
    }
   ],
   "source": [
    "print(zs)\n",
    "plt.figure(figsize=(6, 4))\n",
    "plt.scatter(rs, zs)\n",
    "plt.xlabel(\"r (m)\")\n",
    "plt.ylabel(\"z (m)\")\n",
    "plt.show()"
   ]
  },
  {
   "cell_type": "markdown",
   "metadata": {},
   "source": [
    "We use piecewise linear to fit the measured data. For fude pen we use function piecewise_linear3; while for calligraphy brush we utilize piecewise_linear4."
   ]
  },
  {
   "cell_type": "code",
   "execution_count": 98,
   "metadata": {},
   "outputs": [
    {
     "name": "stdout",
     "output_type": "stream",
     "text": [
      "[ 2.65559230e-04  5.53636283e-04  4.53094035e-02  4.48934114e-02\n",
      " -3.06968833e+00 -3.66324702e+00]\n"
     ]
    },
    {
     "data": {
      "image/png": "[encoded data removed]",
      "text/plain": [
       "<Figure size 432x288 with 1 Axes>"
      ]
     },
     "metadata": {
      "needs_background": "light"
     },
     "output_type": "display_data"
    }
   ],
   "source": [
    "from scipy import optimize\n",
    "import matplotlib.pyplot as plt\n",
    "import numpy as np\n",
    "\n",
    "def piecewise_linear(x, x0, y0, k1, k2):\n",
    "    # x<x0 ? lambda x: k1*x + y0 - k1*x0\n",
    "    # x>=x0 ? lambda x: k2*x + y0 - k2*x0\n",
    "    return np.piecewise(x, [x < x0, x >= x0], [lambda x:k1*x + y0-k1*x0,\n",
    "                                   lambda x:k2*x + y0-k2*x0])\n",
    "\n",
    "def piecewise_linear3(x,x0,x1,y0,y1,k0,k1):\n",
    "    return np.piecewise(x , [x <= x0, np.logical_and(x0<x, x<= x1),x>x1] ,\n",
    "                        [lambda x:k0*(x-x0) + y0,\n",
    "                         lambda x:(x-x0)*(y1-y0)/(x1-x0)+y0,\n",
    "                        lambda x:k1*(x-x1) + y1])\n",
    "\n",
    "def piecewise_linear4(x,x0,x1,x2,y0,y1,y2,k0,k1):\n",
    "    return np.piecewise(x , [x <= x0, np.logical_and(x0<x, x<= x1),np.logical_and(x1<x, x<= x2),x>x2] ,\n",
    "                        [lambda x:k0*(x-x0) + y0,\n",
    "                         lambda x:(x-x0)*(y1-y0)/(x1-x0)+y0,\n",
    "                         lambda x:(x-x1)*(y2-y1)/(x2-x1)+y1,\n",
    "                        lambda x:k1*(x-x2) + y2])\n",
    "\n",
    "\n",
    "# 用已有的 (x, y) 去拟合 piecewise_linear 分段函数\n",
    "# you have to modify the bounds\n",
    "# calli brush\n",
    "#p , e = optimize.curve_fit(piecewise_linear4, rs, zs, bounds=([0.0007,0.0015,0.00215,0.0038,0.0025,-0.002,-20,-20], [0.001,0.0019, 0.0025, 0.005,0.003,-0.0008,-0.5,-0.5]))\n",
    "\n",
    "# fude pen\n",
    "p , e = optimize.curve_fit(piecewise_linear3, rs, zs, bounds=([0.0001,0.0005,0,0,-20,-20], [0.0003,0.0006,0.0456,0.04675,-0.5,-0.5]))\n",
    "\n",
    "xd = np.linspace(rs[0],rs[-1], 100)\n",
    "plt.plot(rs, zs, \"o\")\n",
    "plt.plot(xd, piecewise_linear3(xd, *p))\n",
    "plt.xlabel(\"r (m)\")\n",
    "plt.ylabel(\"z (m)\")\n",
    "print(p) #parameters!!"
   ]
  },
  {
   "cell_type": "markdown",
   "metadata": {},
   "source": [
    "Thus the callibrated fude pen and brush functions are:"
   ]
  },
  {
   "cell_type": "code",
   "execution_count": null,
   "metadata": {},
   "outputs": [],
   "source": [
    "def func_fude(radii):\n",
    "    if radii >=0 and radii <= 0.00026555923:\n",
    "        z = -3.06968833*(radii-0.00026555923)+0.0453094035\n",
    "    elif radii> 0.00026555923 and radii <= 0.000553636283:\n",
    "        z = -1.444032*(radii-0.00026555923)+0.0453094035\n",
    "    elif radii > 0.000553636283 and radii <=0.00071875:\n",
    "        z = -3.66324702*(radii-0.000553636283)+0.044893411\n",
    "    else:\n",
    "        return 0.04425 # overflow protection"
   ]
  },
  {
   "cell_type": "code",
   "execution_count": null,
   "metadata": {},
   "outputs": [],
   "source": [
    "def func_brush(radii):\n",
    "    if radii >=0 and radii <= 7.72667536e-04:\n",
    "        z = -5.9701493*(radii - 7.72667536e-04) + 4.34974603e-03\n",
    "    elif radii > 7.72667536e-04 and radii <= 1.78125854e-03:\n",
    "        z = -1.538473*(radii -7.72667536e-04) + 4.34974603e-03\n",
    "    elif radii >1.78125854e-03 and radii <= 2.45866277e-03:\n",
    "        z = -6.028019*(radii - 1.78125854e-03) + 2.79805600e-03\n",
    "    elif radii >2.45866277e-03 and radii <0.0045:\n",
    "        z = -2.37843574*(radii - 2.45866277e-03) - 1.28534957e-03\n",
    "    else:\n",
    "        return -0.006\n",
    "        "
   ]
  },
  {
   "cell_type": "markdown",
   "metadata": {},
   "source": [
    "For robotic demonstration, we strongly recommend you to re-callibrate and use your own callibrated function."
   ]
  },
  {
   "cell_type": "markdown",
   "metadata": {},
   "source": [
    "### 2. Using the callibrated function to process RL states (.npy) into control points (.npz)"
   ]
  },
  {
   "cell_type": "code",
   "execution_count": null,
   "metadata": {},
   "outputs": [],
   "source": [
    "from load_data_try import process\n",
    "\n",
    "alpha = 0.04 # indicates you are going to write a character with size 4 cm (0.04 m)\n",
    "beta = 0.5 # contrast of stroke width, can be modified to get the most aesthetic character\n",
    "choose_func = func_brush"
   ]
  },
  {
   "cell_type": "code",
   "execution_count": null,
   "metadata": {},
   "outputs": [],
   "source": [
    "name = None # YOUR FILE NAME\n",
    "if not os.path.exists('./data'):\n",
    "    os.makedirs('./data')\n",
    "in_dir = './data/'+name+'.npy'\n",
    "out_dir = './data/'+name+'.npz'\n",
    "\n",
    "data = np.load(in_dir)\n",
    "print(len(data))\n",
    "x, y, z = process(data)\n",
    "print(np.max(z))\n",
    "print(np.min(z))\n",
    "np.savez(out_dir, pos_3d_x=x, pos_3d_y=y, pos_3d_z=z)"
   ]
  }
 ],
 "metadata": {
  "kernelspec": {
   "display_name": "Python 3",
   "language": "python",
   "name": "python3"
  },
  "language_info": {
   "codemirror_mode": {
    "name": "ipython",
    "version": 3
   },
   "file_extension": ".py",
   "mimetype": "text/x-python",
   "name": "python",
   "nbconvert_exporter": "python",
   "pygments_lexer": "ipython3",
   "version": "3.9.3"
  }
 },
 "nbformat": 4,
 "nbformat_minor": 2
}
